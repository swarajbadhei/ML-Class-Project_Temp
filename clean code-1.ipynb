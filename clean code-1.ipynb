{
 "cells": [
  {
   "cell_type": "code",
   "execution_count": 1,
   "metadata": {},
   "outputs": [],
   "source": [
    "import pandas as pd\n",
    "import numpy as np\n",
    "import tensorflow as tf\n",
    "import youtube_dl\n",
    "import moviepy\n",
    "import librosa\n",
    "import matplotlib.pyplot as plt\n",
    "import soundfile\n",
    "import sklearn"
   ]
  },
  {
   "cell_type": "code",
   "execution_count": 3,
   "metadata": {},
   "outputs": [
    {
     "name": "stdout",
     "output_type": "stream",
     "text": [
      "pandas version = 0.25.1\n",
      "numpy version = 1.16.5\n",
      "tensorflow version = 2.0.0\n",
      "moviepy version = 1.0.1\n",
      "librosa version = 0.7.2\n"
     ]
    }
   ],
   "source": [
    "print('pandas version = {}'.format(pd.__version__))\n",
    "print('numpy version = {}'.format(np.__version__))\n",
    "print('tensorflow version = {}'.format(tf.__version__))\n",
    "print('moviepy version = {}'.format(moviepy.__version__))\n",
    "print('librosa version = {}'.format(librosa.__version__))"
   ]
  },
  {
   "cell_type": "markdown",
   "metadata": {},
   "source": [
    "**This csv file contains youtube link for different types of videos containing different sounds.\n",
    "Useful fields are link-part, Duration of the audio, Corresponding label (Police/Ambulance/Fire Truck)**"
   ]
  },
  {
   "cell_type": "code",
   "execution_count": 4,
   "metadata": {},
   "outputs": [
    {
     "name": "stderr",
     "output_type": "stream",
     "text": [
      "C:\\Users\\Swaraj Badhei\\Anaconda3\\lib\\site-packages\\IPython\\core\\interactiveshell.py:3058: DtypeWarning: Columns (12,13,14,15,16,17) have mixed types. Specify dtype option on import or set low_memory=False.\n",
      "  interactivity=interactivity, compiler=compiler, result=result)\n"
     ]
    }
   ],
   "source": [
    "data_file = pd.read_csv('unbalanced_train_segments.csv')"
   ]
  },
  {
   "cell_type": "code",
   "execution_count": 9,
   "metadata": {},
   "outputs": [
    {
     "name": "stdout",
     "output_type": "stream",
     "text": [
      "No of instances = 1048572\n",
      "No of Columns = 18\n",
      "Columns are as follows-:\n",
      "Index(['---1_cCGK4M', '0', '10', ' \"/m/01g50p', '/m/0284vy3', '/m/06d_3',\n",
      "       '/m/07jdr', '/m/07rwm0c\"', 'Unnamed: 8', 'Unnamed: 9', 'Unnamed: 10',\n",
      "       'Unnamed: 11', 'Unnamed: 12', 'Unnamed: 13', 'Unnamed: 14',\n",
      "       'Unnamed: 15', 'Unnamed: 16', 'Unnamed: 17'],\n",
      "      dtype='object')\n"
     ]
    }
   ],
   "source": [
    "print('No of instances = {}\\nNo of Columns = {}'.format(data_file.shape[0],data_file.shape[1]))\n",
    "print('Columns are as follows-:\\n{}'.format(data_file.columns))"
   ]
  },
  {
   "cell_type": "code",
   "execution_count": 11,
   "metadata": {},
   "outputs": [],
   "source": [
    "targets=data_file.values[:,3:]"
   ]
  },
  {
   "cell_type": "markdown",
   "metadata": {},
   "source": [
    "### Next up, we need to separate the links for different labels(Emergency Vehicles in our case).#\n",
    "Useful data are as follows:\n",
    "#Link\n",
    "#Starting time of audio part\n",
    "#Ending time of audio part"
   ]
  },
  {
   "cell_type": "code",
   "execution_count": 14,
   "metadata": {},
   "outputs": [],
   "source": [
    "#tags got from the documentaion for the audio dataset\n",
    "#Takes a bit of time..so not recommended to run each time.\n",
    "police='/m/04qvtq'\n",
    "ambu='/m/012n7d'\n",
    "fire='/m/012ndj'\n",
    "emer='/03j1ly'\n",
    "emer_lst=[]\n",
    "police_lst=[]\n",
    "ambu_lst=[]\n",
    "fire_lst=[]\n",
    "for i in range(targets.shape[0]):\n",
    "    if police in targets[i,:]:\n",
    "        police_lst.append([data_file.iloc[i,0],data_file.iloc[i,1],data_file.iloc[i,2]])\n",
    "    elif fire in targets[i,:]:\n",
    "        fire_lst.append([data_file.iloc[i,0],data_file.iloc[i,1],data_file.iloc[i,2]])\n",
    "    elif ambu in targets[i,:]:\n",
    "        ambu_lst.append([data_file.iloc[i,0],data_file.iloc[i,1],data_file.iloc[i,2]])\n",
    "    else:\n",
    "        pass"
   ]
  },
  {
   "cell_type": "code",
   "execution_count": 15,
   "metadata": {},
   "outputs": [
    {
     "name": "stdout",
     "output_type": "stream",
     "text": [
      "No of Police Car instances = 242\n",
      "No of Fire Truck instances = 213\n",
      "No of Ambulanece instances = 30\n"
     ]
    }
   ],
   "source": [
    "print('No of Police Car instances = {}'.format(len(police_lst)))\n",
    "print('No of Fire Truck instances = {}'.format(len(fire_lst)))\n",
    "print('No of Ambulanece instances = {}'.format(len(ambu_lst)))"
   ]
  },
  {
   "cell_type": "markdown",
   "metadata": {},
   "source": [
    "#### Here comes up the downloading part\n",
    "#1.Download the audio file from youtube\n",
    "#2.Clip the audio file as per got starting and ending time\n",
    "#3.Delete the previous audio file downloaded\n",
    "#4.Save the clipped audio"
   ]
  },
  {
   "cell_type": "code",
   "execution_count": null,
   "metadata": {},
   "outputs": [],
   "source": [
    "#for the record...dont fuck with this now...it just works\n",
    "'''for i in range(np.array(ambu_lst).shape[0]):\n",
    "    try:\n",
    "        ts=ambu_lst[i][1]\n",
    "        te=ambu_lst[i][2]\n",
    "        #print(te,ts)\n",
    "        y_id=ambu_lst[i][0]\n",
    "        video_url='https://www.youtube.com/watch?v={}'.format(y_id)\n",
    "        video=pafy.new(video_url)\n",
    "        best_audio=video.getbestaudio()\n",
    "        audio_name=best_audio.filename\n",
    "        best_audio.download()\n",
    "        if os.path.exists(audio_name):\n",
    "            output_file='Ambulance_'+str(i)+'.webm'\n",
    "            ffmpeg_extract_subclip(audio_name,ts,te,targetname=output_file)\n",
    "            os.remove(audio_name)\n",
    "        print(\"DONE FOR {}\".format(i+1))\n",
    "    except:\n",
    "        print('Error in file : '.format(i+1))'''"
   ]
  },
  {
   "cell_type": "markdown",
   "metadata": {},
   "source": [
    "### For Audio visualization part Go to \"audio_visualization_file.ipynb\""
   ]
  },
  {
   "cell_type": "markdown",
   "metadata": {},
   "source": [
    "### Data Preparation to store in .csv file please refer to \"final_code_for_feature_extraction\""
   ]
  },
  {
   "cell_type": "markdown",
   "metadata": {
    "collapsed": true
   },
   "source": [
    "### Deep Learning part\n",
    "#### 1. Reading data from previously prepared .csv file\n",
    "#### 2. Preparing one simple Dense net\n",
    "#### 3. Feeding and training"
   ]
  },
  {
   "cell_type": "code",
   "execution_count": 25,
   "metadata": {},
   "outputs": [],
   "source": [
    "import tensorflow as tf\n",
    "import numpy as np\n",
    "import pandas as pd\n",
    "from sklearn.model_selection import train_test_split\n",
    "from keras.models import Model\n",
    "from sklearn.preprocessing import OneHotEncoder\n",
    "from keras.optimizers import Adam,SGD\n",
    "import sklearn\n",
    "import matplotlib.pyplot as plt"
   ]
  },
  {
   "cell_type": "code",
   "execution_count": 2,
   "metadata": {},
   "outputs": [
    {
     "name": "stdout",
     "output_type": "stream",
     "text": [
      "tensorflow version = 2.0.0\n",
      "numpy version = 1.16.5\n",
      "pandas version = 0.25.1\n",
      "scikit-learn version = 0.21.3\n"
     ]
    }
   ],
   "source": [
    "print(\"tensorflow version = {}\".format(tf.__version__))\n",
    "print(\"numpy version = {}\".format(np.__version__))\n",
    "print(\"pandas version = {}\".format(pd.__version__))\n",
    "print(\"scikit-learn version = {}\".format(sklearn.__version__))"
   ]
  },
  {
   "cell_type": "code",
   "execution_count": 7,
   "metadata": {},
   "outputs": [],
   "source": [
    "feature_file=pd.read_csv('feature/final_feature.csv').values"
   ]
  },
  {
   "cell_type": "code",
   "execution_count": 8,
   "metadata": {},
   "outputs": [],
   "source": [
    "target_file=pd.read_csv('feature/final_targets.csv').values"
   ]
  },
  {
   "cell_type": "code",
   "execution_count": 13,
   "metadata": {},
   "outputs": [
    {
     "name": "stdout",
     "output_type": "stream",
     "text": [
      "Total no of data points = 301\n",
      "Total no of Features = 1\n"
     ]
    }
   ],
   "source": [
    "print(\"Total no of data points = {}\\nTotal no of Features = {}\".format(target_file.shape[0],target_file.shape[1]))"
   ]
  },
  {
   "cell_type": "code",
   "execution_count": 14,
   "metadata": {},
   "outputs": [
    {
     "name": "stdout",
     "output_type": "stream",
     "text": [
      "Shape of datapoint set = (301, 861, 40)\n"
     ]
    }
   ],
   "source": [
    "feature_file=feature_file.reshape(301,861,40)\n",
    "print('Shape of datapoint set = {}'.format(feature_file.shape))"
   ]
  },
  {
   "cell_type": "code",
   "execution_count": 15,
   "metadata": {},
   "outputs": [
    {
     "name": "stdout",
     "output_type": "stream",
     "text": [
      "Shape of Target Vector = (301, 3)\n"
     ]
    }
   ],
   "source": [
    "ohe=OneHotEncoder(categories='auto')\n",
    "onehot_target=ohe.fit_transform(target_file.reshape(-1,1)).todense()\n",
    "print('Shape of Target Vector = {}'.format(onehot_target.shape))"
   ]
  },
  {
   "cell_type": "code",
   "execution_count": 16,
   "metadata": {},
   "outputs": [],
   "source": [
    "X_train, X_test, y_train, y_test = train_test_split(feature_file, onehot_target, test_size=0.15, random_state=42)"
   ]
  },
  {
   "cell_type": "code",
   "execution_count": 17,
   "metadata": {},
   "outputs": [],
   "source": [
    "model=tf.keras.Sequential([\n",
    "    tf.keras.layers.Flatten(input_shape=(861,40)),\n",
    "    tf.keras.layers.Dense(1024,activation=tf.nn.relu),\n",
    "    tf.keras.layers.Dense(512,activation=tf.nn.relu),\n",
    "    tf.keras.layers.Dense(512,activation=tf.nn.relu),\n",
    "    tf.keras.layers.Dense(512,activation=tf.nn.relu),\n",
    "    tf.keras.layers.Dense(256,activation=tf.nn.relu),\n",
    "    tf.keras.layers.Dense(256,activation=tf.nn.relu),\n",
    "    tf.keras.layers.Dense(128,activation=tf.nn.relu),\n",
    "    tf.keras.layers.Dense(64,activation=tf.nn.relu),\n",
    "    tf.keras.layers.Dense(3,activation=tf.nn.softmax)\n",
    "])"
   ]
  },
  {
   "cell_type": "code",
   "execution_count": 18,
   "metadata": {},
   "outputs": [
    {
     "name": "stdout",
     "output_type": "stream",
     "text": [
      "Model: \"sequential\"\n",
      "_________________________________________________________________\n",
      "Layer (type)                 Output Shape              Param #   \n",
      "=================================================================\n",
      "flatten (Flatten)            (None, 34440)             0         \n",
      "_________________________________________________________________\n",
      "dense (Dense)                (None, 1024)              35267584  \n",
      "_________________________________________________________________\n",
      "dense_1 (Dense)              (None, 512)               524800    \n",
      "_________________________________________________________________\n",
      "dense_2 (Dense)              (None, 512)               262656    \n",
      "_________________________________________________________________\n",
      "dense_3 (Dense)              (None, 512)               262656    \n",
      "_________________________________________________________________\n",
      "dense_4 (Dense)              (None, 256)               131328    \n",
      "_________________________________________________________________\n",
      "dense_5 (Dense)              (None, 256)               65792     \n",
      "_________________________________________________________________\n",
      "dense_6 (Dense)              (None, 128)               32896     \n",
      "_________________________________________________________________\n",
      "dense_7 (Dense)              (None, 64)                8256      \n",
      "_________________________________________________________________\n",
      "dense_8 (Dense)              (None, 3)                 195       \n",
      "=================================================================\n",
      "Total params: 36,556,163\n",
      "Trainable params: 36,556,163\n",
      "Non-trainable params: 0\n",
      "_________________________________________________________________\n"
     ]
    }
   ],
   "source": [
    "model.summary()"
   ]
  },
  {
   "cell_type": "code",
   "execution_count": 19,
   "metadata": {},
   "outputs": [],
   "source": [
    "adam=Adam(lr=0.001,decay=0.0001)\n",
    "sgd=SGD(lr=0.001,decay=0.0001)"
   ]
  },
  {
   "cell_type": "code",
   "execution_count": 22,
   "metadata": {},
   "outputs": [],
   "source": [
    "model.compile(optimizer='adam',loss='categorical_crossentropy',\n",
    "             metrics=['acc'])"
   ]
  },
  {
   "cell_type": "code",
   "execution_count": 23,
   "metadata": {},
   "outputs": [
    {
     "name": "stdout",
     "output_type": "stream",
     "text": [
      "Train on 255 samples, validate on 46 samples\n",
      "Epoch 1/10\n",
      "255/255 [==============================] - 4s 15ms/sample - loss: 66.8572 - acc: 0.3490 - val_loss: 67.6783 - val_acc: 0.5870\n",
      "Epoch 2/10\n",
      "255/255 [==============================] - 2s 7ms/sample - loss: 34.2662 - acc: 0.5333 - val_loss: 22.1390 - val_acc: 0.5870\n",
      "Epoch 3/10\n",
      "255/255 [==============================] - 2s 7ms/sample - loss: 29.4684 - acc: 0.4275 - val_loss: 17.8237 - val_acc: 0.3261\n",
      "Epoch 4/10\n",
      "255/255 [==============================] - 2s 7ms/sample - loss: 17.0272 - acc: 0.4275 - val_loss: 8.9734 - val_acc: 0.5870\n",
      "Epoch 5/10\n",
      "255/255 [==============================] - 2s 7ms/sample - loss: 8.0507 - acc: 0.4588 - val_loss: 4.0002 - val_acc: 0.5870\n",
      "Epoch 6/10\n",
      "255/255 [==============================] - 2s 7ms/sample - loss: 2.0671 - acc: 0.5569 - val_loss: 1.4875 - val_acc: 0.4565\n",
      "Epoch 7/10\n",
      "255/255 [==============================] - 2s 7ms/sample - loss: 1.0554 - acc: 0.5804 - val_loss: 1.3858 - val_acc: 0.4348\n",
      "Epoch 8/10\n",
      "255/255 [==============================] - 2s 8ms/sample - loss: 0.7441 - acc: 0.6667 - val_loss: 1.3409 - val_acc: 0.4565\n",
      "Epoch 9/10\n",
      "255/255 [==============================] - 2s 8ms/sample - loss: 0.5120 - acc: 0.7686 - val_loss: 1.6760 - val_acc: 0.4130\n",
      "Epoch 10/10\n",
      "255/255 [==============================] - 2s 7ms/sample - loss: 0.5274 - acc: 0.7843 - val_loss: 1.3177 - val_acc: 0.5652\n"
     ]
    }
   ],
   "source": [
    "history=model.fit(X_train,y_train,epochs=10,validation_data=(X_test,y_test))"
   ]
  },
  {
   "cell_type": "code",
   "execution_count": 24,
   "metadata": {},
   "outputs": [
    {
     "data": {
      "text/plain": [
       "dict_keys(['loss', 'acc', 'val_loss', 'val_acc'])"
      ]
     },
     "execution_count": 24,
     "metadata": {},
     "output_type": "execute_result"
    }
   ],
   "source": [
    "history.history.keys()"
   ]
  },
  {
   "cell_type": "code",
   "execution_count": 26,
   "metadata": {},
   "outputs": [
    {
     "data": {
      "text/plain": [
       "[<matplotlib.lines.Line2D at 0x1d780629d88>]"
      ]
     },
     "execution_count": 26,
     "metadata": {},
     "output_type": "execute_result"
    },
    {
     "data": {
      "image/png": "[encoded data removed]",
      "text/plain": [
       "<Figure size 432x288 with 1 Axes>"
      ]
     },
     "metadata": {
      "needs_background": "light"
     },
     "output_type": "display_data"
    }
   ],
   "source": [
    "plt.plot(history.history['acc'],history.history['loss'])"
   ]
  },
  {
   "cell_type": "code",
   "execution_count": null,
   "metadata": {},
   "outputs": [],
   "source": []
  }
 ],
 "metadata": {
  "kernelspec": {
   "display_name": "Python 3",
   "language": "python",
   "name": "python3"
  },
  "language_info": {
   "codemirror_mode": {
    "name": "ipython",
    "version": 3
   },
   "file_extension": ".py",
   "mimetype": "text/x-python",
   "name": "python",
   "nbconvert_exporter": "python",
   "pygments_lexer": "ipython3",
   "version": "3.7.4"
  }
 },
 "nbformat": 4,
 "nbformat_minor": 2
}
